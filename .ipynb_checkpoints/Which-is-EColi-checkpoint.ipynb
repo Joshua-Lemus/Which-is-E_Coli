{
 "cells": [
  {
   "cell_type": "code",
   "execution_count": 71,
   "id": "0b798cd1-f1f7-459f-bb8d-1905ba8586af",
   "metadata": {},
   "outputs": [
    {
     "ename": "SyntaxError",
     "evalue": "unexpected EOF while parsing (796853237.py, line 63)",
     "output_type": "error",
     "traceback": [
      "\u001b[0;36m  Cell \u001b[0;32mIn[71], line 63\u001b[0;36m\u001b[0m\n\u001b[0;31m    print(temp.flatten()\u001b[0m\n\u001b[0m                        ^\u001b[0m\n\u001b[0;31mSyntaxError\u001b[0m\u001b[0;31m:\u001b[0m unexpected EOF while parsing\n"
     ]
    }
   ],
   "source": [
    "import matplotlib.pyplot as plt\n",
    "\n",
    "#A=''\n",
    "with open('A.fna') as f:\n",
    "    # for line in f:\n",
    "    #     A+=line.strip()\n",
    "    A = f.read()\n",
    "    # A = f.read().split('\\n')\n",
    "    # A = A.flatten()\n",
    "\n",
    "temp = open('A.fna','r').read().split('\\n')\n",
    "\n",
    "with open('B.fna') as f:\n",
    "    B = f.read()\n",
    "    #A = A.flatten()\n",
    "\n",
    "C='HOOOLA\\nwey'\n",
    "def isNucleotide(C):\n",
    "    nonNuc=[]\n",
    "    for N in C:\n",
    "        if N!='A' and N!='T' and N!='G' and N!='C' and N!='\\n':\n",
    "            nonNuc.append(N)\n",
    "            print(N)\n",
    "    if nonNuc.size!=0:\n",
    "        return(False)\n",
    "    else:\n",
    "        return(True)\n",
    "\n",
    "def countNuc(C, N):\n",
    "    num_N = 0\n",
    "    for nuc in C:\n",
    "        if nuc==N:\n",
    "            num_N+=1\n",
    "    return num_N\n",
    "\n",
    "# def pN1N2(C, N1, N2):\n",
    "#     for i in range(len(C)):\n",
    "#         if \n",
    "\n",
    "A_A = countNuc(A,'A')/len(A)*100\n",
    "T_A = countNuc(A,'T')/len(A)*100\n",
    "G_A = countNuc(A,'G')/len(A)*100\n",
    "C_A = countNuc(A,'C')/len(A)*100\n",
    "\n",
    "\n",
    "A_B = countNuc(B,'A')/len(B)*100\n",
    "T_B = countNuc(B,'T')/len(B)*100\n",
    "G_B = countNuc(B,'G')/len(B)*100\n",
    "C_B = countNuc(B,'C')/len(B)*100\n",
    "\n",
    "A_C = countNuc(C,'A')\n",
    "T_C = countNuc(C,'T')\n",
    "G_C = countNuc(C,'G')\n",
    "C_C = countNuc(C,'C')\n",
    "\n",
    "\n",
    "print(A_A, T_A, G_A, C_A)\n",
    "print(A_B, T_B, G_B, C_B)\n",
    "print(A_C, T_C, G_C, C_C)\n",
    "\n",
    "print(A[0:10], B[-10:-1])\n",
    "\n",
    "print(temp.flatten()"
   ]
  },
  {
   "cell_type": "code",
   "execution_count": null,
   "id": "5eddfe85-1ff0-4638-aef9-48dac6412e3f",
   "metadata": {},
   "outputs": [],
   "source": []
  }
 ],
 "metadata": {
  "kernelspec": {
   "display_name": "Python 3 (ipykernel)",
   "language": "python",
   "name": "python3"
  },
  "language_info": {
   "codemirror_mode": {
    "name": "ipython",
    "version": 3
   },
   "file_extension": ".py",
   "mimetype": "text/x-python",
   "name": "python",
   "nbconvert_exporter": "python",
   "pygments_lexer": "ipython3",
   "version": "3.8.10"
  }
 },
 "nbformat": 4,
 "nbformat_minor": 5
}
